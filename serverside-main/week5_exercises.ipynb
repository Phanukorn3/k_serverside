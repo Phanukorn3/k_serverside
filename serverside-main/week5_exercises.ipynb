{
 "cells": [
  {
   "cell_type": "markdown",
   "metadata": {},
   "source": [
    "![erd](./images/ERD-week5-exercise.png)"
   ]
  },
  {
   "cell_type": "markdown",
   "metadata": {},
   "source": [
    "## Instruction\n",
    "\n",
    "1. ใช้ project myshop เดิมจากของ WEEK 4 มาทำต่อได้เลยครับ (ใครที่หา project ของ WEEK 4 ไม่เจอแล้ว ให้กลับไปทำตามขั้นตอนใน week4_exercises.ipynb)\n",
    "2. ใช้ database `shop` เดิมได้เลยเช่นกันครับ\n",
    "\n",
    "**หมายเหตุ: ถ้านักศึกษาใช้ database เดิมจาก WEEK4 ซึ่งนักศึกษาเคยเพิ่มหรือแก้ไขข้อมูลบางส่วนแล้ว ดังนั้น output อาจจะไม่ตรงกับในตัวอย่างทั้งหมดไม่ต้องตกใจนะครับ**"
   ]
  },
  {
   "cell_type": "code",
   "execution_count": 2,
   "metadata": {},
   "outputs": [],
   "source": [
    "import os\n",
    "os.environ['DJANGO_ALLOW_ASYNC_UNSAFE'] = \"true\"\n",
    "\n",
    "# import modules\n",
    "from shop.models import *\n",
    "from django.db.models import F, Q, Value as V, Count, OuterRef, Subquery\n",
    "from django.db.models.functions import Concat, JSONObject\n",
    "import json\n",
    "from datetime import datetime"
   ]
  },
  {
   "cell_type": "markdown",
   "metadata": {},
   "source": [
    "### 1. annotate(), F()"
   ]
  },
  {
   "cell_type": "markdown",
   "metadata": {},
   "source": [
    "1.1 ให้นักศึกษา query ข้อมูล `Payment` โดยให้เพิ่ม field ราคาที่ลบกับส่วนลดแล้ว โดยกำหนดให้ชื่อ field ว่า \"after_discount_price\" โดยใช้แสดงข้อมูล 10 ตัวแรกเรียงตาม \"after_discount_price\" จากมากไปน้อย (0.25 คะแนน)\n",
    "\n",
    "**หมายเหตุ: จะต้องใช้ annotate() นะครับ ให้เอา `Payment.price` - `Payment.discount`**\n",
    "\n",
    "ตัวอย่าง Output\n",
    "\n",
    "```\n",
    "ID: 92, PRICE: 1200500.00, DISCOUNT 29433.25, AFTER_DISCOUNT 1171066.75\n",
    "ID: 82, PRICE: 1200280.00, DISCOUNT 46229.40, AFTER_DISCOUNT 1154050.60\n",
    "ID: 137, PRICE: 1200690.00, DISCOUNT 71407.25, AFTER_DISCOUNT 1129282.75\n",
    "ID: 105, PRICE: 1200390.00, DISCOUNT 105019.11, AFTER_DISCOUNT 1095370.89\n",
    "ID: 45, PRICE: 1218900.00, DISCOUNT 126859.95, AFTER_DISCOUNT 1092040.05\n",
    "ID: 7, PRICE: 1201200.00, DISCOUNT 113446.20, AFTER_DISCOUNT 1087753.80\n",
    "ID: 18, PRICE: 1202190.00, DISCOUNT 121922.64, AFTER_DISCOUNT 1080267.36\n",
    "ID: 77, PRICE: 379000.00, DISCOUNT 19397.00, AFTER_DISCOUNT 359603.00\n",
    "ID: 127, PRICE: 320450.00, DISCOUNT 14578.90, AFTER_DISCOUNT 305871.10\n",
    "ID: 125, PRICE: 320399.00, DISCOUNT 17939.55, AFTER_DISCOUNT 302459.45\n",
    "```"
   ]
  },
  {
   "cell_type": "code",
   "execution_count": 3,
   "metadata": {},
   "outputs": [
    {
     "name": "stdout",
     "output_type": "stream",
     "text": [
      "ID: 92 PRICE: 1200500.00, DISCOUNT: 29433.25, AFTER_DISCOUNT 1171066.75\n",
      "ID: 82 PRICE: 1200280.00, DISCOUNT: 46229.40, AFTER_DISCOUNT 1154050.60\n",
      "ID: 137 PRICE: 1200690.00, DISCOUNT: 71407.25, AFTER_DISCOUNT 1129282.75\n",
      "ID: 105 PRICE: 1200390.00, DISCOUNT: 105019.11, AFTER_DISCOUNT 1095370.89\n",
      "ID: 45 PRICE: 1218900.00, DISCOUNT: 126859.95, AFTER_DISCOUNT 1092040.05\n",
      "ID: 7 PRICE: 1201200.00, DISCOUNT: 113446.20, AFTER_DISCOUNT 1087753.80\n",
      "ID: 18 PRICE: 1202190.00, DISCOUNT: 121922.64, AFTER_DISCOUNT 1080267.36\n",
      "ID: 77 PRICE: 379000.00, DISCOUNT: 19397.00, AFTER_DISCOUNT 359603.00\n",
      "ID: 127 PRICE: 320450.00, DISCOUNT: 14578.90, AFTER_DISCOUNT 305871.10\n",
      "ID: 125 PRICE: 320399.00, DISCOUNT: 17939.55, AFTER_DISCOUNT 302459.45\n"
     ]
    }
   ],
   "source": [
    "payment = Payment.objects.annotate(after_discount_price=F('price')-F('discount')).order_by(\"-after_discount_price\")[:10]\n",
    "for p in payment:\n",
    "    print(F\"ID: {p.id} PRICE: {p.price}, DISCOUNT: {p.discount}, AFTER_DISCOUNT {p.after_discount_price}\")"
   ]
  },
  {
   "cell_type": "markdown",
   "metadata": {},
   "source": [
    "1.2 ต่อเนื่องจากข้อ 1.1 ให้ filter เฉพาะข้อมูล `Payment` ที่มี \"after_discount_price\" มากกว่า 500,000 (0.25 คะแนน)\n",
    "\n",
    "ตัวอย่าง Output\n",
    "\n",
    "```\n",
    "ID: 92, PRICE: 1200500.00, DISCOUNT 29433.25, AFTER_DISCOUNT 1171066.75\n",
    "ID: 82, PRICE: 1200280.00, DISCOUNT 46229.40, AFTER_DISCOUNT 1154050.60\n",
    "ID: 137, PRICE: 1200690.00, DISCOUNT 71407.25, AFTER_DISCOUNT 1129282.75\n",
    "ID: 105, PRICE: 1200390.00, DISCOUNT 105019.11, AFTER_DISCOUNT 1095370.89\n",
    "ID: 45, PRICE: 1218900.00, DISCOUNT 126859.95, AFTER_DISCOUNT 1092040.05\n",
    "ID: 7, PRICE: 1201200.00, DISCOUNT 113446.20, AFTER_DISCOUNT 1087753.80\n",
    "ID: 18, PRICE: 1202190.00, DISCOUNT 121922.64, AFTER_DISCOUNT 1080267.36\n",
    "```"
   ]
  },
  {
   "cell_type": "code",
   "execution_count": 16,
   "metadata": {},
   "outputs": [
    {
     "name": "stdout",
     "output_type": "stream",
     "text": [
      "ID: 7 PRICE: 1201200.00 DISCOUNT: 113446.20 AFTER_DISCOUNT: 1087753.80\n",
      "ID: 18 PRICE: 1202190.00 DISCOUNT: 121922.64 AFTER_DISCOUNT: 1080267.36\n",
      "ID: 45 PRICE: 1218900.00 DISCOUNT: 126859.95 AFTER_DISCOUNT: 1092040.05\n",
      "ID: 82 PRICE: 1200280.00 DISCOUNT: 46229.40 AFTER_DISCOUNT: 1154050.60\n",
      "ID: 92 PRICE: 1200500.00 DISCOUNT: 29433.25 AFTER_DISCOUNT: 1171066.75\n",
      "ID: 105 PRICE: 1200390.00 DISCOUNT: 105019.11 AFTER_DISCOUNT: 1095370.89\n",
      "ID: 137 PRICE: 1200690.00 DISCOUNT: 71407.25 AFTER_DISCOUNT: 1129282.75\n"
     ]
    }
   ],
   "source": [
    "payment = Payment.objects.annotate(after_discount_price=F('price')-F('discount')).filter(after_discount_price__gt=500000)\n",
    "for p in payment:\n",
    "    print(f\"ID: {p.id} PRICE: {p.price} DISCOUNT: {p.discount} AFTER_DISCOUNT: {p.after_discount_price}\")"
   ]
  },
  {
   "cell_type": "markdown",
   "metadata": {},
   "source": [
    "1.3 ให้นักศึกษาเรียงลำดับข้อมูลลูกค้า (`Customer`) โดยเรียงลำดับตามลำดับตัวอักษร `น้อยไปมาก` (A-Z) จากชื่อเต็มของลูกค้า (`full_name`) โดยแสดง 5 คนแรก (0.5 คะแนน)\n",
    "\n",
    "**Hint:** Field `full_name` นั้นจะต้องถูก annotate ขึ้นมาโดยการนำ `first_name` มาต่อกับ `last_name` โดยใช้ `Concat(*expressions, **extra)` \n",
    "\n",
    "**Hint:** แปลง object เป็น dict ใช้ `values()` [doc](https://docs.djangoproject.com/en/5.0/ref/models/querysets/#values)\n",
    "\n",
    "```python\n",
    ">>> Blog.objects.filter(name__startswith=\"Beatles\").values()\n",
    "<QuerySet [{'id': 1, 'name': 'Beatles Blog', 'tagline': 'All the latest Beatles news.'}]>\n",
    "```\n",
    "\n",
    "**Hint:** อยาก print dictionary สวยๆ ใช้ `json.dumps`\n",
    "\n",
    "```python\n",
    "print(json.dumps(dictionary, indent=4, sort_keys=False))\n",
    "```\n",
    "\n",
    "[doc](https://docs.djangoproject.com/en/5.0/ref/models/database-functions/#concat)\n",
    "\n",
    "ตัวอย่าง Output \n",
    "\n",
    "```python\n",
    "{\n",
    "    \"id\": 17,\n",
    "    \"email\": \"anantaya.deena@gmail.com\",\n",
    "    \"address\": {\n",
    "        \"district\": \"Yan Nawa\",\n",
    "        \"location\": \"60 Thanon Chan Road\",\n",
    "        \"province\": \"Bangkok\",\n",
    "        \"postal_code\": 10120\n",
    "    },\n",
    "    \"full_name\": \"Anantaya Tontong\"\n",
    "}\n",
    "{\n",
    "    \"id\": 25,\n",
    "    \"email\": \"bancha.zeyou@gmail.com\",\n",
    "    \"address\": {\n",
    "        \"district\": \"Watthana\",\n",
    "        \"location\": \"6 Thong Lo Road\",\n",
    "        \"province\": \"Bangkok\",\n",
    "        \"postal_code\": 10110\n",
    "    },\n",
    "    \"full_name\": \"Bancha Kittisompong\"\n",
    "}\n",
    "{\n",
    "    \"id\": 19,\n",
    "    \"email\": \"chayapol.231@gmail.com\",\n",
    "    \"address\": {\n",
    "        \"district\": \"Hang Chat\",\n",
    "        \"location\": \"160 Lampang Road\",\n",
    "        \"province\": \"Lampang\",\n",
    "        \"postal_code\": 52190\n",
    "    },\n",
    "    \"full_name\": \"Chayapol Komprach\"\n",
    "}\n",
    "{\n",
    "    \"id\": 4,\n",
    "    \"email\": \"dejwit.tt@gmail.com\",\n",
    "    \"address\": {\n",
    "        \"district\": \"Chiang Khan\",\n",
    "        \"location\": \"150 Loei Road\",\n",
    "        \"province\": \"Loei\",\n",
    "        \"postal_code\": 42110\n",
    "    },\n",
    "    \"full_name\": \"Dejwit Tangjareonsakul\"\n",
    "}\n",
    "{\n",
    "    \"id\": 11,\n",
    "    \"email\": \"jack.maa@gmail.com\",\n",
    "    \"address\": {\n",
    "        \"district\": \"Bang Khen\",\n",
    "        \"location\": \"88 Phahonyothin Road\",\n",
    "        \"province\": \"Bangkok\",\n",
    "        \"postal_code\": 10220\n",
    "    },\n",
    "    \"full_name\": \"Jack Maa\"\n",
    "}\n",
    "\n",
    "```"
   ]
  },
  {
   "cell_type": "code",
   "execution_count": 35,
   "metadata": {},
   "outputs": [
    {
     "name": "stdout",
     "output_type": "stream",
     "text": [
      "{\n",
      "    \"id\": 17,\n",
      "    \"email\": \"anantaya.deena@gmail.com\",\n",
      "    \"address\": {\n",
      "        \"district\": \"Yan Nawa\",\n",
      "        \"location\": \"60 Thanon Chan Road\",\n",
      "        \"province\": \"Bangkok\",\n",
      "        \"postal_code\": 10120\n",
      "    },\n",
      "    \"full_name\": \"Anantaya Tontong\"\n",
      "}\n",
      "{\n",
      "    \"id\": 25,\n",
      "    \"email\": \"bancha.zeyou@gmail.com\",\n",
      "    \"address\": {\n",
      "        \"district\": \"Watthana\",\n",
      "        \"location\": \"6 Thong Lo Road\",\n",
      "        \"province\": \"Bangkok\",\n",
      "        \"postal_code\": 10110\n",
      "    },\n",
      "    \"full_name\": \"Bancha Kittisompong\"\n",
      "}\n",
      "{\n",
      "    \"id\": 19,\n",
      "    \"email\": \"chayapol.231@gmail.com\",\n",
      "    \"address\": {\n",
      "        \"district\": \"Hang Chat\",\n",
      "        \"location\": \"160 Lampang Road\",\n",
      "        \"province\": \"Lampang\",\n",
      "        \"postal_code\": 52190\n",
      "    },\n",
      "    \"full_name\": \"Chayapol Komprach\"\n",
      "}\n",
      "{\n",
      "    \"id\": 4,\n",
      "    \"email\": \"dejwit.tt@gmail.com\",\n",
      "    \"address\": {\n",
      "        \"district\": \"Chiang Khan\",\n",
      "        \"location\": \"150 Loei Road\",\n",
      "        \"province\": \"Loei\",\n",
      "        \"postal_code\": 42110\n",
      "    },\n",
      "    \"full_name\": \"Dejwit Tangjareonsakul\"\n",
      "}\n",
      "{\n",
      "    \"id\": 11,\n",
      "    \"email\": \"jack.maa@gmail.com\",\n",
      "    \"address\": {\n",
      "        \"district\": \"Bang Khen\",\n",
      "        \"location\": \"88 Phahonyothin Road\",\n",
      "        \"province\": \"Bangkok\",\n",
      "        \"postal_code\": 10220\n",
      "    },\n",
      "    \"full_name\": \"Jack Maa\"\n",
      "}\n"
     ]
    }
   ],
   "source": [
    "c = Customer.objects.annotate(full_name=Concat('first_name', V(\" \"), 'last_name')).order_by('full_name').values('id', 'email', 'address', 'full_name')[:5]\n",
    "for i in c:    \n",
    "    print(json.dumps(i, indent=4, sort_keys=False))"
   ]
  },
  {
   "cell_type": "markdown",
   "metadata": {},
   "source": [
    "### 3. aggregation - count(), sum(), avg()\n"
   ]
  },
  {
   "cell_type": "markdown",
   "metadata": {},
   "source": [
    "3.1 ให้นักศึกษาหาค่าเฉลี่ยของราคาสินค้า (`Product.price`) ที่มีจำนวนคงเหลือ (`Product.remaining_amount`) มากกว่า 0 (0.2 คะแนน)\n",
    "\n",
    "``` PYTHON\n",
    "{'avg': Decimal('29308.000000000000')}\n",
    "```\n"
   ]
  },
  {
   "cell_type": "code",
   "execution_count": 2,
   "metadata": {},
   "outputs": [
    {
     "data": {
      "text/plain": [
       "{'price__avg': Decimal('29308.000000000000')}"
      ]
     },
     "execution_count": 2,
     "metadata": {},
     "output_type": "execute_result"
    }
   ],
   "source": [
    "Product.objects.filter(remaining_amount__gt=0).aggregate(Avg(\"price\"))"
   ]
  },
  {
   "cell_type": "markdown",
   "metadata": {},
   "source": [
    "3.2 จงหาผลรวมราคา (`CartItem.product.price`) ที่อยู่ในตระกร้าสินค้าของเดือน `พฤษภาคม` (ดูจาก `Cart.create_date`) (0.2 คะแนน)\n",
    "\n",
    "```PYTHON\n",
    "{'sum': Decimal('9912555.00')}\n",
    "\n",
    "```"
   ]
  },
  {
   "cell_type": "code",
   "execution_count": 7,
   "metadata": {},
   "outputs": [
    {
     "data": {
      "text/plain": [
       "{'product__price__sum': Decimal('9912555.00')}"
      ]
     },
     "execution_count": 7,
     "metadata": {},
     "output_type": "execute_result"
    }
   ],
   "source": [
    "CartItem.objects.filter(cart__create_date__month=5).aggregate(Sum('product__price'))"
   ]
  },
  {
   "cell_type": "markdown",
   "metadata": {},
   "source": [
    "3.3 ให้นักศึกษานับจำนวนสินค้าที่อยู่ประเภท `Electronics`,  `Jewelry` และ ราคาของสินค้าอยู่ในช่วง 8,000.00 - 50,000.00 (0.2 คะแนน)\n",
    "\n",
    "```\n",
    "PRODUCT CATEGORY NAME: Electronics, PRODUCT COUNT: 6\n",
    "PRODUCT CATEGORY NAME: Jewelry, PRODUCT COUNT: 1\n",
    "```"
   ]
  },
  {
   "cell_type": "code",
   "execution_count": 23,
   "metadata": {
    "scrolled": false
   },
   "outputs": [
    {
     "name": "stdout",
     "output_type": "stream",
     "text": [
      "PRODUCT CATEGORY NAME: Electronics, PRODUCT COUNT: 6\n",
      "PRODUCT CATEGORY NAME: Jewelry, PRODUCT COUNT: 1\n"
     ]
    }
   ],
   "source": [
    "p1 = Product.objects.filter(categories__name='Electronics').filter(price__gt=8000, price__lt=50000).count()\n",
    "p2 = Product.objects.filter(categories__name='Jewelry').filter(price__gt=8000, price__lt=50000).count()\n",
    "\n",
    "print(F\"PRODUCT CATEGORY NAME: Electronics, PRODUCT COUNT: {p1}\")\n",
    "print(F\"PRODUCT CATEGORY NAME: Jewelry, PRODUCT COUNT: {p2}\")"
   ]
  },
  {
   "cell_type": "markdown",
   "metadata": {},
   "source": [
    "3.4 ให้นักศึกษามีการใช้ `Subquery` เพื่อหาคำสั่งซื้อ (`Order`) ล่าสุดของลูกค้า (`Customer`) แต่ละคน โดยมีการเรียงลำดับคำสั่งซื้อตามวันที่ที่สั่งซื้อ และแสดงผลข้อมูลตามตัวอย่างที่กำหนดไว้ (0.4 คะแนน)\n",
    "```txt\n",
    "# ตัวอย่างผลลัพธ์บางส่วน\n",
    "CUSTOMER NAME: Sek Loso, ORDER DATE: 2024-05-13\n",
    "CUSTOMER NAME: Warit Pititat, ORDER DATE: 2024-05-26\n",
    "CUSTOMER NAME: Chayapol Komprach, ORDER DATE: 2024-05-26\n",
    "CUSTOMER NAME: Kwantip Aekopas, ORDER DATE: 2024-05-28\n",
    "CUSTOMER NAME: Kerikwan Laopong, ORDER DATE: 2024-05-30\n",
    "CUSTOMER NAME: Pattanapoom Srisawangjan, ORDER DATE: 2024-05-30\n",
    "CUSTOMER NAME: Manit Senapan, ORDER DATE: 2024-06-06\n",
    "CUSTOMER NAME: Techathorn Sriwanwilai, ORDER DATE: 2024-06-07\n",
    "CUSTOMER NAME: Anantaya Tontong, ORDER DATE: 2024-06-08\n",
    "CUSTOMER NAME: Kittitorn Wilairat, ORDER DATE: 2024-06-11\n",
    "...\n",
    "```"
   ]
  },
  {
   "cell_type": "code",
   "execution_count": 20,
   "metadata": {},
   "outputs": [
    {
     "name": "stdout",
     "output_type": "stream",
     "text": [
      "CUSTOMER NAME: Panita Hongsakulpan, ORDER DATE: 2024-06-22\n",
      "CUSTOMER NAME: Pakin Janpen, ORDER DATE: 2024-06-23\n",
      "CUSTOMER NAME: Jenjira Sukanansarn, ORDER DATE: 2024-06-18\n",
      "CUSTOMER NAME: Dejwit Tangjareonsakul, ORDER DATE: 2024-06-16\n",
      "CUSTOMER NAME: Pong Sawadiwong, ORDER DATE: 2024-06-15\n",
      "CUSTOMER NAME: Thitirat Sukkesorn, ORDER DATE: 2024-06-21\n",
      "CUSTOMER NAME: Porntipa Pasakul, ORDER DATE: 2024-06-12\n",
      "CUSTOMER NAME: Warit Pititat, ORDER DATE: 2024-05-26\n",
      "CUSTOMER NAME: Sira Pititat, ORDER DATE: 2024-06-19\n",
      "CUSTOMER NAME: Wanaporn Klabpetch, ORDER DATE: 2024-06-20\n",
      "CUSTOMER NAME: Jack Maa, ORDER DATE: 2024-06-19\n",
      "CUSTOMER NAME: Jakkapob Sopapak, ORDER DATE: 2024-06-18\n",
      "CUSTOMER NAME: Kittitorn Wilairat, ORDER DATE: 2024-06-11\n",
      "CUSTOMER NAME: Yanisa Nantapak, ORDER DATE: 2024-06-17\n",
      "CUSTOMER NAME: stave klolas, ORDER DATE: 2024-06-22\n",
      "CUSTOMER NAME: Peeraya Wichienchan, ORDER DATE: 2024-06-13\n",
      "CUSTOMER NAME: Anantaya Tontong, ORDER DATE: 2024-06-08\n",
      "CUSTOMER NAME: Sek Loso, ORDER DATE: 2024-05-13\n",
      "CUSTOMER NAME: Chayapol Komprach, ORDER DATE: 2024-05-26\n",
      "CUSTOMER NAME: Kerikwan Laopong, ORDER DATE: 2024-05-30\n",
      "CUSTOMER NAME: Phuwadech Siriwanich, ORDER DATE: 2024-06-23\n",
      "CUSTOMER NAME: Manit Senapan, ORDER DATE: 2024-06-06\n",
      "CUSTOMER NAME: Yanisa Thongchaiyapoom, ORDER DATE: 2024-06-22\n",
      "CUSTOMER NAME: Rachanon Hongpatra, ORDER DATE: 2024-06-14\n",
      "CUSTOMER NAME: Bancha Kittisompong, ORDER DATE: 2024-06-17\n",
      "CUSTOMER NAME: Pattanapoom Srisawangjan, ORDER DATE: 2024-05-30\n",
      "CUSTOMER NAME: Techathorn Sriwanwilai, ORDER DATE: 2024-06-07\n",
      "CUSTOMER NAME: Kwantip Aekopas, ORDER DATE: 2024-05-28\n",
      "CUSTOMER NAME: Suwichada Jarastham, ORDER DATE: 2024-06-14\n",
      "CUSTOMER NAME: Trinnapon Yinggnam, ORDER DATE: 2024-06-23\n"
     ]
    }
   ],
   "source": [
    "order = Order.objects.filter(customer=OuterRef(\"pk\")).order_by('-order_date')\n",
    "c = Customer.objects.annotate(newest=Subquery(order.values('order_date')[:1]))\n",
    "for i in c:\n",
    "    print(F\"CUSTOMER NAME: {i.first_name} {i.last_name}, ORDER DATE: {i.newest}\")"
   ]
  },
  {
   "cell_type": "markdown",
   "metadata": {},
   "source": [
    "### 4. one-to-one & one-to-many"
   ]
  },
  {
   "cell_type": "markdown",
   "metadata": {},
   "source": [
    "4.1 จงสร้าง Order และ Payment ของลูกค้า Sek Loso จำนวน 2 รายการ โดยแต่ละ Order มีสินค้า 1 รายการ และชำระเงินด้วย Payment คนละรายการ จากนั้น เขียน query แสดงข้อมูล Order และ Payment ทั้งหมดของ Sek Loso (0.25 คะแนน)\n",
    "```txt\n",
    "# ตัวอย่างผลลัพธ์บางส่วน\n",
    "CUSTOMER: Sek Loso, ORDER ID: 48, PRICE: 1699.00, DISCOUNT: 112.27, PRODUCT: Bird Cage\n",
    "CUSTOMER: Sek Loso, ORDER ID: 59, PRICE: 1740.00, DISCOUNT: 140.81, PRODUCT: Microwave Oven\n",
    "```"
   ]
  },
  {
   "cell_type": "code",
   "execution_count": 44,
   "metadata": {},
   "outputs": [
    {
     "name": "stdout",
     "output_type": "stream",
     "text": [
      "CUSTOMER: Sek Loso, ORDER ID: 48, PRICE: 1699.00, DISCOUNT: 112.27, PRODUCT: Bird Cage\n",
      "CUSTOMER: Sek Loso, ORDER ID: 59, PRICE: 1740.00, DISCOUNT: 140.81, PRODUCT: Microwave Oven\n",
      "CUSTOMER: Sek Loso, ORDER ID: 185, PRICE: 1699.00, DISCOUNT: 112.27, PRODUCT: Bird Cage\n",
      "CUSTOMER: Sek Loso, ORDER ID: 186, PRICE: 1740.00, DISCOUNT: 140.81, PRODUCT: Microwave Oven\n",
      "CUSTOMER: Sek Loso, ORDER ID: 187, PRICE: 1699.00, DISCOUNT: 112.27, PRODUCT: Bird Cage\n",
      "CUSTOMER: Sek Loso, ORDER ID: 188, PRICE: 1740.00, DISCOUNT: 140.81, PRODUCT: Microwave Oven\n",
      "CUSTOMER: Sek Loso, ORDER ID: 189, PRICE: 1699.00, DISCOUNT: 112.27, PRODUCT: Bird Cage\n",
      "CUSTOMER: Sek Loso, ORDER ID: 190, PRICE: 1740.00, DISCOUNT: 140.81, PRODUCT: Microwave Oven\n"
     ]
    }
   ],
   "source": [
    "sek = Customer.objects.get(first_name='Sek', last_name=\"Loso\")\n",
    "\n",
    "product1 = Product.objects.get(name=\"Bird Cage\")\n",
    "product2 = Product.objects.get(name=\"Microwave Oven\")\n",
    "\n",
    "order1 = Order.objects.create(customer=sek, order_date=datetime.now().date())\n",
    "order2 = Order.objects.create(customer=sek, order_date=datetime.now().date())\n",
    "\n",
    "payment1 = Payment.objects.create(order=order1, payment_date=datetime.now().date(), price=1699, discount=112.27)\n",
    "payment2 = Payment.objects.create(order=order2, payment_date=datetime.now().date(), price=1740, discount=140.81)\n",
    "\n",
    "orderItem1 = OrderItem.objects.create(order=order1, product=product1, amount=1)\n",
    "orderItem2 = OrderItem.objects.create(order=order2, product=product2, amount=1)\n",
    "\n",
    "PaymentMethod.objects.create(payment=payment1, method='QR', price=1586.73)\n",
    "PaymentMethod.objects.create(payment=payment2, method='CREDIT', price=1599.19)\n",
    "\n",
    "orders = Order.objects.filter(customer=sek)\n",
    "\n",
    "for order in orders:\n",
    "    payment = Payment.objects.filter(order=order).first()\n",
    "    order_item = OrderItem.objects.filter(order=order).first()\n",
    "\n",
    "    print(F\"CUSTOMER: {sek.first_name} {sek.last_name}, ORDER ID: {order.id}, PRICE: {payment.price}, DISCOUNT: {payment.discount}, PRODUCT: {order_item.product.name}\")"
   ]
  },
  {
   "cell_type": "markdown",
   "metadata": {},
   "source": [
    "4.2 ให้นักศึกษาดึงข้อมูล `Payment` ที่มี `PaymentMethod` ที่เป็น 'CREDIT' และมีราคาหลังหักส่วนลด (`Payment.price` - `Payment.discount`) ต่ำกว่า 500 และให้แสดงจำนวนของ `PaymentItem` ของแต่ละรายการ Payment (0.25 คะแนน)\n",
    "```txt\n",
    "# ตัวอย่างผลลัพธ์\n",
    "PAYMENT ID: 40, AFTER_DISCOUNT: 493.06, ITEM COUNT: 2\n",
    "PAYMENT ID: 13, AFTER_DISCOUNT: 448.54, ITEM COUNT: 2\n",
    "```"
   ]
  },
  {
   "cell_type": "code",
   "execution_count": 4,
   "metadata": {},
   "outputs": [
    {
     "name": "stdout",
     "output_type": "stream",
     "text": [
      "PAYMENT ID: 40, AFTER_DISCOUNT: 493.06, ITEM COUNT: 2\n",
      "PAYMENT ID: 13, AFTER_DISCOUNT: 448.54, ITEM COUNT: 2\n"
     ]
    }
   ],
   "source": [
    "p = Payment.objects.annotate(after_discount=F('price')-F('discount')).filter(after_discount__lt=500, paymentmethod__method='CREDIT').annotate(pitem=Count('paymentitem'))\n",
    "for i in p:\n",
    "    print(F'PAYMENT ID: {i.id}, AFTER_DISCOUNT: {i.after_discount}, ITEM COUNT: {i.pitem}')"
   ]
  },
  {
   "cell_type": "markdown",
   "metadata": {},
   "source": [
    "### 5. many-to-many"
   ]
  },
  {
   "cell_type": "markdown",
   "metadata": {},
   "source": [
    "5.1 ให้นักศึกษาค้นหาข้อมูลสินค้า (`Product`) ที่อยู่ในทั้งหมวดหมู่สินค้า \"Information Technology\" และ \"Electronics\" 10 รายการแรก (เรียงลำดับด้วย `Product.id`) และแสดงชื่อประเภทสินค้า (`ProductCategory`) (0.25 คะแนน)\n",
    "\n",
    "ตัวอย่าง Output บางส่วน\n",
    "\n",
    "```\n",
    "PRODUCT ID: 1, PRODUCT NAME: Smartphone, PRODUCT CATEGORY: Information technology, Electronics\n",
    "PRODUCT ID: 2, PRODUCT NAME: Laptop, PRODUCT CATEGORY: Information technology, Electronics\n",
    "PRODUCT ID: 3, PRODUCT NAME: Smart TV, PRODUCT CATEGORY: Information technology, Electronics\n",
    "```"
   ]
  },
  {
   "cell_type": "code",
   "execution_count": 3,
   "metadata": {
    "scrolled": true
   },
   "outputs": [],
   "source": [
    "p = Product.objects.filter(categories__name='Information Technology').filter(categories__name='Electronics').order_by('id')[:10]\n",
    "for i in p:\n",
    "    print(F\"PRODUCT ID: {i.id}, PRODUCT NAME: {i.name}, PRODUCT CATEGORY: {', '.join(c.name for c in i.categories.all())}\")"
   ]
  },
  {
   "cell_type": "markdown",
   "metadata": {},
   "source": [
    "5.2 ให้นักศึกษาทำตามขั้นตอนดังนี้ (0.25 คะแนน)\n",
    "\n",
    "1. เปลี่ยนชื่อหมวดหมู่สินค้า `Electronics` เป็น `Electronics and Toys` แทน\n",
    "2. ย้ายสินค้าที่อยู่ใน `Toys and Games` ไปอยู่ในหมวดหมู่ `Electronics and Toys` และ ลบหมวดหมู่สินค้า `Toys and Games` \n",
    "3. ค้นหาว่าสินค้าที่มีประเภทสินค้าเป็น `Electronics and Toys` ทั้งหมดมีจำนวนเท่าไหร่"
   ]
  },
  {
   "cell_type": "code",
   "execution_count": 93,
   "metadata": {
    "scrolled": true
   },
   "outputs": [
    {
     "ename": "DoesNotExist",
     "evalue": "ProductCategory matching query does not exist.",
     "output_type": "error",
     "traceback": [
      "\u001b[1;31m---------------------------------------------------------------------------\u001b[0m",
      "\u001b[1;31mDoesNotExist\u001b[0m                              Traceback (most recent call last)",
      "Cell \u001b[1;32mIn[93], line 1\u001b[0m\n\u001b[1;32m----> 1\u001b[0m c \u001b[38;5;241m=\u001b[39m \u001b[43mProductCategory\u001b[49m\u001b[38;5;241;43m.\u001b[39;49m\u001b[43mobjects\u001b[49m\u001b[38;5;241;43m.\u001b[39;49m\u001b[43mget\u001b[49m\u001b[43m(\u001b[49m\u001b[43mname\u001b[49m\u001b[38;5;241;43m=\u001b[39;49m\u001b[38;5;124;43m\"\u001b[39;49m\u001b[38;5;124;43mElectronics\u001b[39;49m\u001b[38;5;124;43m\"\u001b[39;49m\u001b[43m)\u001b[49m\n\u001b[0;32m      2\u001b[0m c\u001b[38;5;241m.\u001b[39mname \u001b[38;5;241m=\u001b[39m \u001b[38;5;124m\"\u001b[39m\u001b[38;5;124mElectronics and Toys\u001b[39m\u001b[38;5;124m\"\u001b[39m\n\u001b[0;32m      3\u001b[0m c\u001b[38;5;241m.\u001b[39msave()\n",
      "File \u001b[1;32m~\\Desktop\\newcode\\week4\\myenv\\Lib\\site-packages\\django\\db\\models\\manager.py:87\u001b[0m, in \u001b[0;36mBaseManager._get_queryset_methods.<locals>.create_method.<locals>.manager_method\u001b[1;34m(self, *args, **kwargs)\u001b[0m\n\u001b[0;32m     85\u001b[0m \u001b[38;5;129m@wraps\u001b[39m(method)\n\u001b[0;32m     86\u001b[0m \u001b[38;5;28;01mdef\u001b[39;00m\u001b[38;5;250m \u001b[39m\u001b[38;5;21mmanager_method\u001b[39m(\u001b[38;5;28mself\u001b[39m, \u001b[38;5;241m*\u001b[39margs, \u001b[38;5;241m*\u001b[39m\u001b[38;5;241m*\u001b[39mkwargs):\n\u001b[1;32m---> 87\u001b[0m     \u001b[38;5;28;01mreturn\u001b[39;00m \u001b[38;5;28;43mgetattr\u001b[39;49m\u001b[43m(\u001b[49m\u001b[38;5;28;43mself\u001b[39;49m\u001b[38;5;241;43m.\u001b[39;49m\u001b[43mget_queryset\u001b[49m\u001b[43m(\u001b[49m\u001b[43m)\u001b[49m\u001b[43m,\u001b[49m\u001b[43m \u001b[49m\u001b[43mname\u001b[49m\u001b[43m)\u001b[49m\u001b[43m(\u001b[49m\u001b[38;5;241;43m*\u001b[39;49m\u001b[43margs\u001b[49m\u001b[43m,\u001b[49m\u001b[43m \u001b[49m\u001b[38;5;241;43m*\u001b[39;49m\u001b[38;5;241;43m*\u001b[39;49m\u001b[43mkwargs\u001b[49m\u001b[43m)\u001b[49m\n",
      "File \u001b[1;32m~\\Desktop\\newcode\\week4\\myenv\\Lib\\site-packages\\django\\db\\models\\query.py:633\u001b[0m, in \u001b[0;36mQuerySet.get\u001b[1;34m(self, *args, **kwargs)\u001b[0m\n\u001b[0;32m    631\u001b[0m     \u001b[38;5;28;01mreturn\u001b[39;00m clone\u001b[38;5;241m.\u001b[39m_result_cache[\u001b[38;5;241m0\u001b[39m]\n\u001b[0;32m    632\u001b[0m \u001b[38;5;28;01mif\u001b[39;00m \u001b[38;5;129;01mnot\u001b[39;00m num:\n\u001b[1;32m--> 633\u001b[0m     \u001b[38;5;28;01mraise\u001b[39;00m \u001b[38;5;28mself\u001b[39m\u001b[38;5;241m.\u001b[39mmodel\u001b[38;5;241m.\u001b[39mDoesNotExist(\n\u001b[0;32m    634\u001b[0m         \u001b[38;5;124m\"\u001b[39m\u001b[38;5;132;01m%s\u001b[39;00m\u001b[38;5;124m matching query does not exist.\u001b[39m\u001b[38;5;124m\"\u001b[39m \u001b[38;5;241m%\u001b[39m \u001b[38;5;28mself\u001b[39m\u001b[38;5;241m.\u001b[39mmodel\u001b[38;5;241m.\u001b[39m_meta\u001b[38;5;241m.\u001b[39mobject_name\n\u001b[0;32m    635\u001b[0m     )\n\u001b[0;32m    636\u001b[0m \u001b[38;5;28;01mraise\u001b[39;00m \u001b[38;5;28mself\u001b[39m\u001b[38;5;241m.\u001b[39mmodel\u001b[38;5;241m.\u001b[39mMultipleObjectsReturned(\n\u001b[0;32m    637\u001b[0m     \u001b[38;5;124m\"\u001b[39m\u001b[38;5;124mget() returned more than one \u001b[39m\u001b[38;5;132;01m%s\u001b[39;00m\u001b[38;5;124m -- it returned \u001b[39m\u001b[38;5;132;01m%s\u001b[39;00m\u001b[38;5;124m!\u001b[39m\u001b[38;5;124m\"\u001b[39m\n\u001b[0;32m    638\u001b[0m     \u001b[38;5;241m%\u001b[39m (\n\u001b[1;32m   (...)\u001b[0m\n\u001b[0;32m    641\u001b[0m     )\n\u001b[0;32m    642\u001b[0m )\n",
      "\u001b[1;31mDoesNotExist\u001b[0m: ProductCategory matching query does not exist."
     ]
    }
   ],
   "source": [
    "c = ProductCategory.objects.get(name=\"Electronics\")\n",
    "c.name = \"Electronics and Toys\"\n",
    "c.save()"
   ]
  },
  {
   "cell_type": "code",
   "execution_count": 39,
   "metadata": {},
   "outputs": [
    {
     "data": {
      "text/plain": [
       "(1, {'shop.ProductCategory': 1})"
      ]
     },
     "execution_count": 39,
     "metadata": {},
     "output_type": "execute_result"
    }
   ],
   "source": [
    "c1 = ProductCategory.objects.get(name=\"Toys and Games\")\n",
    "c2 = ProductCategory.objects.get(name=\"Electronics and Toys\")\n",
    "\n",
    "p1 = Product.objects.filter(categories=c1)\n",
    "\n",
    "for i in p1:\n",
    "    i.categories.add(c2)\n",
    "    i.categories.remove(c1)\n",
    "\n",
    "c1.delete()"
   ]
  },
  {
   "cell_type": "code",
   "execution_count": 37,
   "metadata": {},
   "outputs": [
    {
     "data": {
      "text/plain": [
       "30"
      ]
     },
     "execution_count": 37,
     "metadata": {},
     "output_type": "execute_result"
    }
   ],
   "source": [
    "p = Product.objects.filter(categories__name='Electronics and Toys').count()\n",
    "p"
   ]
  },
  {
   "cell_type": "code",
   "execution_count": null,
   "metadata": {},
   "outputs": [],
   "source": []
  }
 ],
 "metadata": {
  "kernelspec": {
   "display_name": "Django Shell-Plus",
   "language": "python",
   "name": "django_extensions"
  },
  "language_info": {
   "codemirror_mode": {
    "name": "ipython",
    "version": 3
   },
   "file_extension": ".py",
   "mimetype": "text/x-python",
   "name": "python",
   "nbconvert_exporter": "python",
   "pygments_lexer": "ipython3",
   "version": "3.13.0"
  }
 },
 "nbformat": 4,
 "nbformat_minor": 2
}
